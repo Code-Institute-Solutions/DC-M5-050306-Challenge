{
 "cells": [
  {
   "cell_type": "markdown",
   "id": "d1ad5a26",
   "metadata": {},
   "source": [
    "## Business Scenario: Analysing E-commerce Sales Data\n",
    "\n",
    "You are a data analyst for an e-commerce company, \"ShopEase.\" Your task is to analyse the company's sales data to understand customer behavior, sales trends, and product performance.\n",
    "\n",
    "The dataset contains the following columns:\n",
    "\n",
    "- <b>OrderID:</b> Unique identifier for each order.\n",
    "- <b>CustomerID:</b> Unique identifier for each customer.\n",
    "- <b>Product:</b> The name of the product purchased.\n",
    "- <b>Category:</b> The category to which the product belongs.\n",
    "- <b>Quantity:</b> The number of units purchased in that order.\n",
    "- <b>Price:</b> The price per unit of the product.\n",
    "- <b>OrderDate:</b> The date when the order was placed.\n",
    "- <b>Country:</b> The country from which the order was placed."
   ]
  },
  {
   "cell_type": "markdown",
   "id": "9adbc4f6",
   "metadata": {},
   "source": [
    "## 1) Import the pandas library as pd"
   ]
  },
  {
   "cell_type": "code",
   "execution_count": 16,
   "id": "0ad20a52",
   "metadata": {},
   "outputs": [],
   "source": [
    "#Import pandas library\n",
    "import pandas as pd"
   ]
  },
  {
   "cell_type": "markdown",
   "id": "d1b23508",
   "metadata": {},
   "source": [
    "## 2) Load the Dataset\n",
    "Load the dataset from a CSV file called ecommerce_sales.csv using pandas."
   ]
  },
  {
   "cell_type": "code",
   "execution_count": 17,
   "id": "22058486",
   "metadata": {},
   "outputs": [],
   "source": [
    "#Write your answer here...\n",
    "df = pd.read_csv(\"ecommerce_sales.csv\")"
   ]
  },
  {
   "cell_type": "markdown",
   "id": "8435ed4d",
   "metadata": {},
   "source": [
    "## 3) Preview the Dataset"
   ]
  },
  {
   "cell_type": "code",
   "execution_count": 18,
   "id": "f32864ac",
   "metadata": {},
   "outputs": [
    {
     "data": {
      "text/html": [
       "<div>\n",
       "<style scoped>\n",
       "    .dataframe tbody tr th:only-of-type {\n",
       "        vertical-align: middle;\n",
       "    }\n",
       "\n",
       "    .dataframe tbody tr th {\n",
       "        vertical-align: top;\n",
       "    }\n",
       "\n",
       "    .dataframe thead th {\n",
       "        text-align: right;\n",
       "    }\n",
       "</style>\n",
       "<table border=\"1\" class=\"dataframe\">\n",
       "  <thead>\n",
       "    <tr style=\"text-align: right;\">\n",
       "      <th></th>\n",
       "      <th>OrderID</th>\n",
       "      <th>CustomerID</th>\n",
       "      <th>Product</th>\n",
       "      <th>Category</th>\n",
       "      <th>Quantity</th>\n",
       "      <th>Price</th>\n",
       "      <th>OrderDate</th>\n",
       "      <th>Country</th>\n",
       "    </tr>\n",
       "  </thead>\n",
       "  <tbody>\n",
       "    <tr>\n",
       "      <th>0</th>\n",
       "      <td>10001</td>\n",
       "      <td>2001</td>\n",
       "      <td>Laptop</td>\n",
       "      <td>Electronics</td>\n",
       "      <td>1</td>\n",
       "      <td>1200</td>\n",
       "      <td>15/01/2024</td>\n",
       "      <td>USA</td>\n",
       "    </tr>\n",
       "    <tr>\n",
       "      <th>1</th>\n",
       "      <td>10002</td>\n",
       "      <td>2002</td>\n",
       "      <td>Headphones</td>\n",
       "      <td>Electronics</td>\n",
       "      <td>2</td>\n",
       "      <td>150</td>\n",
       "      <td>16/01/2024</td>\n",
       "      <td>Canada</td>\n",
       "    </tr>\n",
       "    <tr>\n",
       "      <th>2</th>\n",
       "      <td>10003</td>\n",
       "      <td>2001</td>\n",
       "      <td>Shirt</td>\n",
       "      <td>Clothing</td>\n",
       "      <td>3</td>\n",
       "      <td>30</td>\n",
       "      <td>17/01/2024</td>\n",
       "      <td>USA</td>\n",
       "    </tr>\n",
       "    <tr>\n",
       "      <th>3</th>\n",
       "      <td>10004</td>\n",
       "      <td>2003</td>\n",
       "      <td>Coffee Maker</td>\n",
       "      <td>Kitchen</td>\n",
       "      <td>1</td>\n",
       "      <td>80</td>\n",
       "      <td>18/01/2024</td>\n",
       "      <td>UK</td>\n",
       "    </tr>\n",
       "    <tr>\n",
       "      <th>4</th>\n",
       "      <td>10005</td>\n",
       "      <td>2004</td>\n",
       "      <td>Jacket</td>\n",
       "      <td>Clothing</td>\n",
       "      <td>1</td>\n",
       "      <td>100</td>\n",
       "      <td>19/01/2024</td>\n",
       "      <td>Canada</td>\n",
       "    </tr>\n",
       "  </tbody>\n",
       "</table>\n",
       "</div>"
      ],
      "text/plain": [
       "   OrderID  CustomerID       Product     Category  Quantity  Price  \\\n",
       "0    10001        2001        Laptop  Electronics         1   1200   \n",
       "1    10002        2002    Headphones  Electronics         2    150   \n",
       "2    10003        2001         Shirt     Clothing         3     30   \n",
       "3    10004        2003  Coffee Maker      Kitchen         1     80   \n",
       "4    10005        2004        Jacket     Clothing         1    100   \n",
       "\n",
       "    OrderDate Country  \n",
       "0  15/01/2024     USA  \n",
       "1  16/01/2024  Canada  \n",
       "2  17/01/2024     USA  \n",
       "3  18/01/2024      UK  \n",
       "4  19/01/2024  Canada  "
      ]
     },
     "execution_count": 18,
     "metadata": {},
     "output_type": "execute_result"
    }
   ],
   "source": [
    "#Write your answer here\n",
    "df.head()"
   ]
  },
  {
   "cell_type": "markdown",
   "id": "638b663d",
   "metadata": {},
   "source": [
    "## 4) Generate Descriptive Statistics\n",
    "Use the describe() function to generate descriptive statistics for the dataset."
   ]
  },
  {
   "cell_type": "code",
   "execution_count": 19,
   "id": "970cc15e",
   "metadata": {},
   "outputs": [
    {
     "data": {
      "text/html": [
       "<div>\n",
       "<style scoped>\n",
       "    .dataframe tbody tr th:only-of-type {\n",
       "        vertical-align: middle;\n",
       "    }\n",
       "\n",
       "    .dataframe tbody tr th {\n",
       "        vertical-align: top;\n",
       "    }\n",
       "\n",
       "    .dataframe thead th {\n",
       "        text-align: right;\n",
       "    }\n",
       "</style>\n",
       "<table border=\"1\" class=\"dataframe\">\n",
       "  <thead>\n",
       "    <tr style=\"text-align: right;\">\n",
       "      <th></th>\n",
       "      <th>OrderID</th>\n",
       "      <th>CustomerID</th>\n",
       "      <th>Quantity</th>\n",
       "      <th>Price</th>\n",
       "    </tr>\n",
       "  </thead>\n",
       "  <tbody>\n",
       "    <tr>\n",
       "      <th>count</th>\n",
       "      <td>10.00000</td>\n",
       "      <td>10.000000</td>\n",
       "      <td>10.000000</td>\n",
       "      <td>10.000000</td>\n",
       "    </tr>\n",
       "    <tr>\n",
       "      <th>mean</th>\n",
       "      <td>10005.50000</td>\n",
       "      <td>2004.100000</td>\n",
       "      <td>1.800000</td>\n",
       "      <td>307.500000</td>\n",
       "    </tr>\n",
       "    <tr>\n",
       "      <th>std</th>\n",
       "      <td>3.02765</td>\n",
       "      <td>2.424413</td>\n",
       "      <td>1.032796</td>\n",
       "      <td>472.847462</td>\n",
       "    </tr>\n",
       "    <tr>\n",
       "      <th>min</th>\n",
       "      <td>10001.00000</td>\n",
       "      <td>2001.000000</td>\n",
       "      <td>1.000000</td>\n",
       "      <td>15.000000</td>\n",
       "    </tr>\n",
       "    <tr>\n",
       "      <th>25%</th>\n",
       "      <td>10003.25000</td>\n",
       "      <td>2002.250000</td>\n",
       "      <td>1.000000</td>\n",
       "      <td>42.500000</td>\n",
       "    </tr>\n",
       "    <tr>\n",
       "      <th>50%</th>\n",
       "      <td>10005.50000</td>\n",
       "      <td>2004.000000</td>\n",
       "      <td>1.500000</td>\n",
       "      <td>110.000000</td>\n",
       "    </tr>\n",
       "    <tr>\n",
       "      <th>75%</th>\n",
       "      <td>10007.75000</td>\n",
       "      <td>2005.750000</td>\n",
       "      <td>2.000000</td>\n",
       "      <td>150.000000</td>\n",
       "    </tr>\n",
       "    <tr>\n",
       "      <th>max</th>\n",
       "      <td>10010.00000</td>\n",
       "      <td>2008.000000</td>\n",
       "      <td>4.000000</td>\n",
       "      <td>1200.000000</td>\n",
       "    </tr>\n",
       "  </tbody>\n",
       "</table>\n",
       "</div>"
      ],
      "text/plain": [
       "           OrderID   CustomerID   Quantity        Price\n",
       "count     10.00000    10.000000  10.000000    10.000000\n",
       "mean   10005.50000  2004.100000   1.800000   307.500000\n",
       "std        3.02765     2.424413   1.032796   472.847462\n",
       "min    10001.00000  2001.000000   1.000000    15.000000\n",
       "25%    10003.25000  2002.250000   1.000000    42.500000\n",
       "50%    10005.50000  2004.000000   1.500000   110.000000\n",
       "75%    10007.75000  2005.750000   2.000000   150.000000\n",
       "max    10010.00000  2008.000000   4.000000  1200.000000"
      ]
     },
     "execution_count": 19,
     "metadata": {},
     "output_type": "execute_result"
    }
   ],
   "source": [
    "#Write your answer here...\n",
    "df.describe()"
   ]
  },
  {
   "cell_type": "markdown",
   "id": "691dcb4f",
   "metadata": {},
   "source": [
    "## 5) Filtering the Dataset\n",
    "Filter the dataset to show only the orders where the \"Category\" is \"Electronics.\""
   ]
  },
  {
   "cell_type": "code",
   "execution_count": 20,
   "id": "e67364e3",
   "metadata": {},
   "outputs": [
    {
     "data": {
      "text/html": [
       "<div>\n",
       "<style scoped>\n",
       "    .dataframe tbody tr th:only-of-type {\n",
       "        vertical-align: middle;\n",
       "    }\n",
       "\n",
       "    .dataframe tbody tr th {\n",
       "        vertical-align: top;\n",
       "    }\n",
       "\n",
       "    .dataframe thead th {\n",
       "        text-align: right;\n",
       "    }\n",
       "</style>\n",
       "<table border=\"1\" class=\"dataframe\">\n",
       "  <thead>\n",
       "    <tr style=\"text-align: right;\">\n",
       "      <th></th>\n",
       "      <th>OrderID</th>\n",
       "      <th>CustomerID</th>\n",
       "      <th>Product</th>\n",
       "      <th>Category</th>\n",
       "      <th>Quantity</th>\n",
       "      <th>Price</th>\n",
       "      <th>OrderDate</th>\n",
       "      <th>Country</th>\n",
       "    </tr>\n",
       "  </thead>\n",
       "  <tbody>\n",
       "    <tr>\n",
       "      <th>0</th>\n",
       "      <td>10001</td>\n",
       "      <td>2001</td>\n",
       "      <td>Laptop</td>\n",
       "      <td>Electronics</td>\n",
       "      <td>1</td>\n",
       "      <td>1200</td>\n",
       "      <td>15/01/2024</td>\n",
       "      <td>USA</td>\n",
       "    </tr>\n",
       "    <tr>\n",
       "      <th>1</th>\n",
       "      <td>10002</td>\n",
       "      <td>2002</td>\n",
       "      <td>Headphones</td>\n",
       "      <td>Electronics</td>\n",
       "      <td>2</td>\n",
       "      <td>150</td>\n",
       "      <td>16/01/2024</td>\n",
       "      <td>Canada</td>\n",
       "    </tr>\n",
       "    <tr>\n",
       "      <th>5</th>\n",
       "      <td>10006</td>\n",
       "      <td>2005</td>\n",
       "      <td>Laptop</td>\n",
       "      <td>Electronics</td>\n",
       "      <td>1</td>\n",
       "      <td>1200</td>\n",
       "      <td>20/01/2024</td>\n",
       "      <td>USA</td>\n",
       "    </tr>\n",
       "    <tr>\n",
       "      <th>9</th>\n",
       "      <td>10010</td>\n",
       "      <td>2008</td>\n",
       "      <td>Headphones</td>\n",
       "      <td>Electronics</td>\n",
       "      <td>1</td>\n",
       "      <td>150</td>\n",
       "      <td>24/01/2024</td>\n",
       "      <td>USA</td>\n",
       "    </tr>\n",
       "  </tbody>\n",
       "</table>\n",
       "</div>"
      ],
      "text/plain": [
       "   OrderID  CustomerID     Product     Category  Quantity  Price   OrderDate  \\\n",
       "0    10001        2001      Laptop  Electronics         1   1200  15/01/2024   \n",
       "1    10002        2002  Headphones  Electronics         2    150  16/01/2024   \n",
       "5    10006        2005      Laptop  Electronics         1   1200  20/01/2024   \n",
       "9    10010        2008  Headphones  Electronics         1    150  24/01/2024   \n",
       "\n",
       "  Country  \n",
       "0     USA  \n",
       "1  Canada  \n",
       "5     USA  \n",
       "9     USA  "
      ]
     },
     "execution_count": 20,
     "metadata": {},
     "output_type": "execute_result"
    }
   ],
   "source": [
    "#Write your answer here...\n",
    "filtered_df=df[df['Category']=='Electronics']\n",
    "filtered_df"
   ]
  },
  {
   "cell_type": "markdown",
   "id": "ac292300",
   "metadata": {},
   "source": [
    "## 6) Filtering the Dataset using a logical Operator\n",
    "Filter the dataset to show only the orders made in the USA where the price of the product is greater than 100."
   ]
  },
  {
   "cell_type": "code",
   "execution_count": 37,
   "id": "afcf15c2",
   "metadata": {},
   "outputs": [
    {
     "data": {
      "text/html": [
       "<div>\n",
       "<style scoped>\n",
       "    .dataframe tbody tr th:only-of-type {\n",
       "        vertical-align: middle;\n",
       "    }\n",
       "\n",
       "    .dataframe tbody tr th {\n",
       "        vertical-align: top;\n",
       "    }\n",
       "\n",
       "    .dataframe thead th {\n",
       "        text-align: right;\n",
       "    }\n",
       "</style>\n",
       "<table border=\"1\" class=\"dataframe\">\n",
       "  <thead>\n",
       "    <tr style=\"text-align: right;\">\n",
       "      <th></th>\n",
       "      <th>OrderID</th>\n",
       "      <th>CustomerID</th>\n",
       "      <th>Product</th>\n",
       "      <th>Category</th>\n",
       "      <th>Quantity</th>\n",
       "      <th>Price</th>\n",
       "      <th>OrderDate</th>\n",
       "      <th>Country</th>\n",
       "      <th>Total_Sales</th>\n",
       "    </tr>\n",
       "  </thead>\n",
       "  <tbody>\n",
       "    <tr>\n",
       "      <th>0</th>\n",
       "      <td>10001</td>\n",
       "      <td>2001</td>\n",
       "      <td>Laptop</td>\n",
       "      <td>Electronics</td>\n",
       "      <td>1</td>\n",
       "      <td>1200</td>\n",
       "      <td>15/01/2024</td>\n",
       "      <td>USA</td>\n",
       "      <td>1200</td>\n",
       "    </tr>\n",
       "    <tr>\n",
       "      <th>5</th>\n",
       "      <td>10006</td>\n",
       "      <td>2005</td>\n",
       "      <td>Laptop</td>\n",
       "      <td>Electronics</td>\n",
       "      <td>1</td>\n",
       "      <td>1200</td>\n",
       "      <td>20/01/2024</td>\n",
       "      <td>USA</td>\n",
       "      <td>1200</td>\n",
       "    </tr>\n",
       "    <tr>\n",
       "      <th>9</th>\n",
       "      <td>10010</td>\n",
       "      <td>2008</td>\n",
       "      <td>Headphones</td>\n",
       "      <td>Electronics</td>\n",
       "      <td>1</td>\n",
       "      <td>150</td>\n",
       "      <td>24/01/2024</td>\n",
       "      <td>USA</td>\n",
       "      <td>150</td>\n",
       "    </tr>\n",
       "  </tbody>\n",
       "</table>\n",
       "</div>"
      ],
      "text/plain": [
       "   OrderID  CustomerID     Product     Category  Quantity  Price   OrderDate  \\\n",
       "0    10001        2001      Laptop  Electronics         1   1200  15/01/2024   \n",
       "5    10006        2005      Laptop  Electronics         1   1200  20/01/2024   \n",
       "9    10010        2008  Headphones  Electronics         1    150  24/01/2024   \n",
       "\n",
       "  Country  Total_Sales  \n",
       "0     USA         1200  \n",
       "5     USA         1200  \n",
       "9     USA          150  "
      ]
     },
     "execution_count": 37,
     "metadata": {},
     "output_type": "execute_result"
    }
   ],
   "source": [
    "#Write your answer here...\n",
    "filtered_df2= df[(df['Country'] == 'USA') & (df['Price'] > 100)]\n",
    "filtered_df2"
   ]
  },
  {
   "cell_type": "markdown",
   "id": "c3717d0e",
   "metadata": {},
   "source": [
    "## 7) Grouping and Aggregating Data - Total Sales by Country\n",
    "- Create a new column called 'Total_Sales' by mulitplying Quantity x Price\n",
    "- Group the data by the \"Country\" column and aggregate to find the total sales for each country."
   ]
  },
  {
   "cell_type": "code",
   "execution_count": 22,
   "id": "07e27c71",
   "metadata": {},
   "outputs": [
    {
     "data": {
      "text/plain": [
       "Country\n",
       "Canada     520\n",
       "UK         320\n",
       "USA       2640\n",
       "Name: Total_Sales, dtype: int64"
      ]
     },
     "execution_count": 22,
     "metadata": {},
     "output_type": "execute_result"
    }
   ],
   "source": [
    "#Write your answer here...\n",
    "df['Total_Sales']=df['Quantity']*df['Price']\n",
    "df.groupby('Country')['Total_Sales'].sum()"
   ]
  },
  {
   "cell_type": "markdown",
   "id": "1e5ef71c",
   "metadata": {},
   "source": [
    "## 8) Analysing Customer Sales by Country\n",
    "Calculate the total sales for each customer, grouped by country, to see how much each customer has spent in different countries."
   ]
  },
  {
   "cell_type": "code",
   "execution_count": 28,
   "id": "c3d6e747",
   "metadata": {
    "scrolled": true
   },
   "outputs": [
    {
     "data": {
      "text/plain": [
       "Country  CustomerID\n",
       "Canada   2002           300\n",
       "         2004           160\n",
       "         2006            60\n",
       "UK       2003            80\n",
       "         2007           240\n",
       "USA      2001          1290\n",
       "         2005          1200\n",
       "         2008           150\n",
       "Name: Total_Sales, dtype: int64"
      ]
     },
     "execution_count": 28,
     "metadata": {},
     "output_type": "execute_result"
    }
   ],
   "source": [
    "#Write your answer here... \n",
    "df.groupby(['Country','CustomerID'])['Total_Sales'].sum()"
   ]
  },
  {
   "cell_type": "markdown",
   "id": "661cc14b",
   "metadata": {},
   "source": [
    "## 9) Analysing Product Performance within Each Category\n",
    "Group the data by \"Category\" and \"Product\" to calculate the total sales for each product within its respective category."
   ]
  },
  {
   "cell_type": "code",
   "execution_count": 30,
   "id": "ecba1c4d",
   "metadata": {},
   "outputs": [
    {
     "data": {
      "text/plain": [
       "Category     Product     \n",
       "Clothing     Jacket           100\n",
       "             Shirt            150\n",
       "Electronics  Headphones       450\n",
       "             Laptop          2400\n",
       "Kitchen      Blender          240\n",
       "             Coffee Maker      80\n",
       "             Mug               60\n",
       "Name: Total_Sales, dtype: int64"
      ]
     },
     "execution_count": 30,
     "metadata": {},
     "output_type": "execute_result"
    }
   ],
   "source": [
    "#Write your answer here...\n",
    "df.groupby(['Category','Product'])['Total_Sales'].sum()"
   ]
  },
  {
   "cell_type": "markdown",
   "id": "be8efbea",
   "metadata": {},
   "source": [
    "## 10) Analysing Average Price by Product Category\n",
    "Group the data by \"Category\" and calculate the average price for each product category to understand the pricing distribution across categories."
   ]
  },
  {
   "cell_type": "code",
   "execution_count": 33,
   "id": "e68f5a78",
   "metadata": {},
   "outputs": [
    {
     "data": {
      "text/plain": [
       "Category\n",
       "Clothing        53.333333\n",
       "Electronics    675.000000\n",
       "Kitchen         71.666667\n",
       "Name: Price, dtype: float64"
      ]
     },
     "execution_count": 33,
     "metadata": {},
     "output_type": "execute_result"
    }
   ],
   "source": [
    "#Write your answer here... \n",
    "df.groupby('Category')['Price'].mean()"
   ]
  },
  {
   "cell_type": "markdown",
   "id": "75c59fb2",
   "metadata": {},
   "source": [
    "## What's Next?"
   ]
  },
  {
   "cell_type": "markdown",
   "id": "bdd3ece7",
   "metadata": {},
   "source": [
    "Up next is the lesson wrap-up, where we will review everything we've learned so far about conditional statements, loops and iterations, as well as numpy and pandas."
   ]
  }
 ],
 "metadata": {
  "kernelspec": {
   "display_name": "Python 3 (ipykernel)",
   "language": "python",
   "name": "python3"
  },
  "language_info": {
   "codemirror_mode": {
    "name": "ipython",
    "version": 3
   },
   "file_extension": ".py",
   "mimetype": "text/x-python",
   "name": "python",
   "nbconvert_exporter": "python",
   "pygments_lexer": "ipython3",
   "version": "3.9.7"
  }
 },
 "nbformat": 4,
 "nbformat_minor": 5
}
